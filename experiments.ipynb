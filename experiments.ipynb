{
 "cells": [
  {
   "cell_type": "markdown",
   "id": "66a3800c-0f23-484e-80dd-4768cd5246a4",
   "metadata": {
    "jp-MarkdownHeadingCollapsed": true,
    "tags": []
   },
   "source": [
    "## Imports"
   ]
  },
  {
   "cell_type": "code",
   "execution_count": null,
   "id": "32042d28-db11-4e87-a4b9-55e3b1f4d549",
   "metadata": {},
   "outputs": [],
   "source": [
    "%load_ext autoreload\n",
    "%autoreload 2"
   ]
  },
  {
   "cell_type": "code",
   "execution_count": null,
   "id": "8ccc620c-ed0d-4d02-ae31-a49e99ece6cf",
   "metadata": {
    "tags": []
   },
   "outputs": [],
   "source": [
    "import numpy as np\n",
    "import pickle\n",
    "import matplotlib.pyplot as plt\n",
    "import matplotlib.cm as cm\n",
    "from matplotlib.colors import Normalize\n",
    "\n",
    "from sklearn.datasets import fetch_openml\n",
    "from sklearn.linear_model import LogisticRegression\n",
    "from sklearn.model_selection import train_test_split\n",
    "from sklearn.exceptions import ConvergenceWarning\n",
    "\n",
    "import warnings\n",
    "warnings.filterwarnings(\"ignore\", category=ConvergenceWarning)\n",
    "\n",
    "from fdshapley import FederatedShapley"
   ]
  },
  {
   "cell_type": "markdown",
   "id": "d9b16b5e-9f39-4e5f-a730-0cb5948cea4f",
   "metadata": {
    "jp-MarkdownHeadingCollapsed": true,
    "tags": []
   },
   "source": [
    "## Load data (old)"
   ]
  },
  {
   "cell_type": "raw",
   "id": "e5d33891-af7e-496f-aaa9-abb84bd8b3dc",
   "metadata": {},
   "source": [
    "# Load data from https://www.openml.org/d/554\n",
    "X, y = fetch_openml(\"mnist_784\", version=1, return_X_y=True, as_frame=False)"
   ]
  },
  {
   "cell_type": "raw",
   "id": "c9435dc8-d050-4a69-8ac1-5e5ea8d3644c",
   "metadata": {},
   "source": [
    "def split(X, y, n_participants, frac_test=0.2):\n",
    "    X_train, X_test, y_train, y_test = train_test_split(X, y, test_size=0.2) \n",
    "    xs_train, ys_train = np.split(X_train, n_participants), np.split(y_train, n_participants)\n",
    "    return  xs_train, ys_train, X_test, y_test"
   ]
  },
  {
   "cell_type": "raw",
   "id": "ab3bd69d-8674-4bb6-a514-5f4703660d2f",
   "metadata": {},
   "source": [
    "N = 20\n",
    "xs_train, ys_train, X_test, y_test = split(X[:10_000], y[:10_000], N, 0.2)"
   ]
  },
  {
   "cell_type": "raw",
   "id": "2ae012a7-da33-4cdd-b326-a32b5f232861",
   "metadata": {},
   "source": [
    "import pickle\n",
    "dico_data = {\"xs_train\":xs_train,\n",
    "             \"ys_train\":ys_train, \n",
    "             \"X_test\":X_test, \n",
    "             \"y_test\":y_test}\n",
    "\n",
    "with open('dico_data.pkl', 'wb') as f:\n",
    "    pickle.dump(dico_data, f)\n",
    "        \n",
    "with open('dico_data.pkl', 'rb') as f:\n",
    "    loaded_dict = pickle.load(f)"
   ]
  },
  {
   "cell_type": "markdown",
   "id": "4622612a-5697-4510-a666-323f261cdd19",
   "metadata": {
    "jp-MarkdownHeadingCollapsed": true,
    "tags": []
   },
   "source": [
    "## Corrupt data"
   ]
  },
  {
   "cell_type": "raw",
   "id": "a1fe14ee-7cfe-4911-870c-1fcc2a7a0092",
   "metadata": {},
   "source": [
    "prop_switch = 0.3\n",
    "ys_train_corrupted = []\n",
    "\n",
    "for i in range(N):\n",
    "    y_str = ys_train[i].copy()\n",
    "    y = np.array(y_str, dtype=int)\n",
    "    if i<5:\n",
    "        switch = np.random.rand(len(y)) < prop_switch\n",
    "        new_values = np.random.randint(0, 10, len(y))\n",
    "        ys_train_corrupted.append(np.array((1-switch)*y + switch*new_values, dtype=str))\n",
    "    else:\n",
    "        ys_train_corrupted.append(np.array(y, dtype=str))"
   ]
  },
  {
   "cell_type": "raw",
   "id": "7fde0e86-6f77-4083-ba49-797a1195196a",
   "metadata": {},
   "source": [
    "import pickle\n",
    "dico_data = {\"xs_train\":xs_train,\n",
    "             \"ys_train\":ys_train, \n",
    "             \"ys_train_corrupted\":ys_train_corrupted,\n",
    "             \"X_test\":X_test, \n",
    "             \"y_test\":y_test}\n",
    "\n",
    "with open('dico_data.pkl', 'wb') as f:\n",
    "    pickle.dump(dico_data, f)"
   ]
  },
  {
   "cell_type": "markdown",
   "id": "01d40390-b5d8-436c-8cca-51c0f44fe985",
   "metadata": {
    "jp-MarkdownHeadingCollapsed": true,
    "tags": []
   },
   "source": [
    "## Load data"
   ]
  },
  {
   "cell_type": "code",
   "execution_count": null,
   "id": "756b6b02-99c1-4a91-b548-e3b4c071b167",
   "metadata": {},
   "outputs": [],
   "source": [
    "N = 20\n",
    "with open('dico_data.pkl', 'rb') as f:\n",
    "    loaded_dict = pickle.load(f)\n",
    "xs_train, ys_train, ys_train_corrupted, X_test, y_test = loaded_dict.values()"
   ]
  },
  {
   "cell_type": "code",
   "execution_count": null,
   "id": "10d4a3a8-1be5-490f-872e-c44376c2f8cf",
   "metadata": {},
   "outputs": [],
   "source": [
    "params = {\n",
    "    'max_iter': 1, \n",
    "    'warm_start': True,\n",
    "    'fit_intercept':False\n",
    "}"
   ]
  },
  {
   "cell_type": "code",
   "execution_count": null,
   "id": "5e700e08-ecc7-496c-b3b9-deadfbd6263e",
   "metadata": {},
   "outputs": [],
   "source": [
    "data_train = [[x,y] for x,y in zip(xs_train, ys_train)]\n",
    "data_train_corrupted = [[x,y] for x,y in zip(xs_train, ys_train_corrupted)]\n",
    "data_test = [X_test, y_test]"
   ]
  },
  {
   "cell_type": "markdown",
   "id": "fd8f2067-594a-4a44-912f-3a1487bcdf5d",
   "metadata": {
    "jp-MarkdownHeadingCollapsed": true,
    "tags": []
   },
   "source": [
    "## Run Original Data Shapley"
   ]
  },
  {
   "cell_type": "code",
   "execution_count": null,
   "id": "44a978ef-4e73-4d1c-b486-e42d28d53ebe",
   "metadata": {},
   "outputs": [],
   "source": [
    "corrupted = False\n",
    "\n",
    "Trepeat = 300\n",
    "trunc = 5"
   ]
  },
  {
   "cell_type": "code",
   "execution_count": null,
   "id": "fce1b917-05bb-4796-8c22-af77952869f1",
   "metadata": {
    "tags": []
   },
   "outputs": [],
   "source": [
    "if corrupted:\n",
    "    file = 'res_orig_corrupted.pkl'\n",
    "    my_data_train = data_train_corrupted\n",
    "else:\n",
    "    file = 'res_orig.pkl'\n",
    "    my_data_train = data_train\n",
    "\n",
    "with open(file, 'rb') as f:\n",
    "    warm_start = pickle.load(f)\n",
    "#warm_start = None\n",
    "\n",
    "fed = FederatedShapley(my_data_train, data_test)\n",
    "res_orig = fed.originalDataShapley(Trepeat, trunc, warm_start)\n",
    "\n",
    "\n",
    "with open(file, 'wb') as f:\n",
    "    pickle.dump({\"s_hat\":res_orig, \"Tprev\":warm_start[\"Tprev\"]+Trepeat}, f)"
   ]
  },
  {
   "cell_type": "code",
   "execution_count": null,
   "id": "25abf8cc-6ff3-4798-8283-7ae07a605490",
   "metadata": {},
   "outputs": [],
   "source": [
    "with open('res_orig.pkl', 'rb') as f:\n",
    "    warm_start = pickle.load(f)\n",
    "print(warm_start[\"Tprev\"])\n",
    "plot_simple(warm_start['s_hat'], \"Data Shapley value\", \"original_shapley\")"
   ]
  },
  {
   "cell_type": "code",
   "execution_count": null,
   "id": "2a262b0a-7146-4796-b07a-2efd8dccc954",
   "metadata": {},
   "outputs": [],
   "source": [
    "with open('res_orig_corrupted.pkl', 'rb') as f:\n",
    "    warm_start = pickle.load(f)\n",
    "print(warm_start[\"Tprev\"])\n",
    "plot_simple(warm_start['s_hat'], \"Data Shapley value\", \"original_shapley_corrupted\")"
   ]
  },
  {
   "cell_type": "markdown",
   "id": "44a62ac2-6caf-4411-83ee-88872fb3fba1",
   "metadata": {
    "jp-MarkdownHeadingCollapsed": true,
    "tags": []
   },
   "source": [
    "## Run FL Shapley"
   ]
  },
  {
   "cell_type": "code",
   "execution_count": null,
   "id": "6d1b1b9e-4a7f-484e-850e-ec5234d0b923",
   "metadata": {},
   "outputs": [],
   "source": [
    "T = 300"
   ]
  },
  {
   "cell_type": "code",
   "execution_count": null,
   "id": "dd9a0a11-33cb-4cde-b9d5-1ee2a185746d",
   "metadata": {},
   "outputs": [],
   "source": [
    "fed = FederatedShapley(data_train, data_test)\n",
    "res, log = fed.federatedSVEstimation(0.1, T)"
   ]
  },
  {
   "cell_type": "code",
   "execution_count": null,
   "id": "4080176a-7a26-47de-ac21-636319e1e2ab",
   "metadata": {
    "tags": []
   },
   "outputs": [],
   "source": [
    "fed.u(fed.w)"
   ]
  },
  {
   "cell_type": "code",
   "execution_count": null,
   "id": "a17420af-c56f-4164-8ed6-575ff4511829",
   "metadata": {},
   "outputs": [],
   "source": [
    "def plot_simple(x, legend, filename):\n",
    "    plt.figure(figsize=(10,7))\n",
    "    colors =  [\"tab:orange\"]*5 + [\"tab:blue\"]*15\n",
    "    plt.bar(range(N), x, color=colors)\n",
    "    plt.xticks(range(N))\n",
    "    plt.xlabel(\"Participant id\")\n",
    "    plt.ylabel(legend)\n",
    "    \n",
    "    plt.savefig(filename+\".png\")\n",
    "    plt.show()"
   ]
  },
  {
   "cell_type": "code",
   "execution_count": null,
   "id": "e45761bc-7a1d-40dc-9c9c-3449dc7ad6f9",
   "metadata": {},
   "outputs": [],
   "source": [
    "def plot(res, log, legend, filename):\n",
    "    plt.figure(figsize=(10,7))\n",
    "\n",
    "    cmap = cm.autumn\n",
    "    norm = Normalize(vmin=0, vmax=10)\n",
    "    colors =  [cmap(norm(x)) for x in log[\"first\"]]\n",
    "\n",
    "    plt.bar(range(N), res, color=colors)\n",
    "\n",
    "    sm = plt.cm.ScalarMappable(cmap=cmap, norm=plt.Normalize(vmin=0, vmax=10))\n",
    "    sm._A = []\n",
    "    cbar = plt.colorbar(sm)\n",
    "    cbar.ax.set_yticklabels([0, 2, 4, 6, 8, '>10'])\n",
    "    cbar.set_label('First round of participation', rotation=270)\n",
    "\n",
    "\n",
    "    plt.xticks(range(N))\n",
    "    plt.xlabel(\"Participant id\")\n",
    "    plt.ylabel(legend)\n",
    "\n",
    "    plt.savefig(filename+\".png\")\n",
    "    plt.show()"
   ]
  },
  {
   "cell_type": "code",
   "execution_count": null,
   "id": "d1f29c22-6b26-4e25-9abf-8132a0afd4a5",
   "metadata": {},
   "outputs": [],
   "source": [
    "plot(res, log,  \"Federated Data Shapley value\", \"fdshap_3\")"
   ]
  },
  {
   "cell_type": "code",
   "execution_count": null,
   "id": "d22ff554-c261-486b-9f29-a646e99440f2",
   "metadata": {},
   "outputs": [],
   "source": [
    "fed = FederatedShapley(data_train_corrupted, data_test)\n",
    "res, log = fed.federatedSVEstimation(0.1, T)"
   ]
  },
  {
   "cell_type": "code",
   "execution_count": null,
   "id": "3366c79c-65d6-4328-8f4d-7198d52a9cc7",
   "metadata": {},
   "outputs": [],
   "source": [
    "plot(res, log, \"Federated Data Shapley value\", \"fdshap_withcorruption\")"
   ]
  },
  {
   "cell_type": "markdown",
   "id": "b4de448a-60cb-43b7-86fa-f38762ae2244",
   "metadata": {
    "jp-MarkdownHeadingCollapsed": true,
    "tags": []
   },
   "source": [
    "## Run Reweighted FL Shapley"
   ]
  },
  {
   "cell_type": "code",
   "execution_count": null,
   "id": "05e68aa2-8b16-48c1-bd00-2ca4166910c0",
   "metadata": {},
   "outputs": [],
   "source": [
    "T = 50"
   ]
  },
  {
   "cell_type": "code",
   "execution_count": null,
   "id": "2ad2a76b-217a-4f9c-8c49-654382137220",
   "metadata": {},
   "outputs": [],
   "source": [
    "agg = (\"exp_acc\" ,50)"
   ]
  },
  {
   "cell_type": "code",
   "execution_count": null,
   "id": "6a09f700-cbd7-464a-b0f2-59888d4263fd",
   "metadata": {},
   "outputs": [],
   "source": [
    "fed = FederatedShapley(data_train, data_test)\n",
    "res, log = fed.federatedSVEstimation(0.1, T, aggregation=agg)"
   ]
  },
  {
   "cell_type": "code",
   "execution_count": null,
   "id": "100c6c3e-aee8-425d-a1bb-108c52979670",
   "metadata": {
    "tags": []
   },
   "outputs": [],
   "source": [
    "fed.u(fed.w)"
   ]
  },
  {
   "cell_type": "code",
   "execution_count": null,
   "id": "aaf14f3a-93a6-4707-9625-a3df5be558a7",
   "metadata": {},
   "outputs": [],
   "source": [
    "plot(res, log, \"Federated Data Shapley value\", \"tmp\")"
   ]
  },
  {
   "cell_type": "code",
   "execution_count": null,
   "id": "306e5945-b3b1-4e1c-a658-ede69c2b25a9",
   "metadata": {},
   "outputs": [],
   "source": [
    "fed = FederatedShapley(data_train_corrupted, data_test)\n",
    "res, log = fed.federatedSVEstimation(0.1, T, aggregation=agg)"
   ]
  },
  {
   "cell_type": "code",
   "execution_count": null,
   "id": "d16a6bd8-1d1d-4df8-a8e9-72413abe7ed9",
   "metadata": {},
   "outputs": [],
   "source": [
    "plot(res, log, \"Federated Data Shapley value\", \"tmp\")"
   ]
  },
  {
   "cell_type": "code",
   "execution_count": null,
   "id": "b4ee4b30-0da0-4077-bb30-ec9a7073b0cf",
   "metadata": {},
   "outputs": [],
   "source": [
    "rounds = [i for i, parts in enumerate(log[\"all_participants\"]) if 1 in parts]"
   ]
  },
  {
   "cell_type": "code",
   "execution_count": null,
   "id": "8285a509-7432-4c58-aae1-58cf13662476",
   "metadata": {},
   "outputs": [],
   "source": [
    "dico = {}\n",
    "dico_var = {}\n",
    "\n",
    "nrepeat=15\n",
    "\n",
    "for method in [\"sum\", \"normalize\"]:\n",
    "    vals = []\n",
    "    for n in range(nrepeat):\n",
    "        fed = FederatedShapley(data_train, data_test)\n",
    "        res, _ = fed.federatedSVEstimation(0.1, T, aggregation=(method,))\n",
    "        vals.append(res)\n",
    "    dico[method] = vals\n",
    "\n",
    "for method in [\"exp_acc\", \"linear_acc\"]:\n",
    "    print(method)\n",
    "    for a in [1, 10, 50]:\n",
    "        vals = []\n",
    "        for n in range(nrepeat):\n",
    "            fed = FederatedShapley(data_train, data_test)\n",
    "            res, _ = fed.federatedSVEstimation(0.1, T, aggregation=(method, a))\n",
    "            vals.append(res)\n",
    "        dico[(method, a)] = vals\n"
   ]
  },
  {
   "cell_type": "code",
   "execution_count": null,
   "id": "eb228139-48ff-4722-8145-0417fce6dc87",
   "metadata": {},
   "outputs": [],
   "source": [
    "with open('res_orig.pkl', 'rb') as f:\n",
    "    warm_start = pickle.load(f)\n",
    "true_shapley = warm_start['s_hat'].copy()\n",
    "true_shapley/=np.sum(true_shapley)\n",
    "\n",
    "\n",
    "dico_scores = {\n",
    "    method: [np.sum(np.abs(x-true_shapley)) for x in fedshapley] for method, fedshapley in dico.items()\n",
    "}\n",
    "\n",
    "dico_res = {\n",
    "    method: (np.mean(x), np.std(x)) for method, x in dico_scores.items()\n",
    "}\n",
    "\n",
    "dico_res"
   ]
  }
 ],
 "metadata": {
  "kernelspec": {
   "display_name": "Python 3 (ipykernel)",
   "language": "python",
   "name": "python3"
  },
  "language_info": {
   "codemirror_mode": {
    "name": "ipython",
    "version": 3
   },
   "file_extension": ".py",
   "mimetype": "text/x-python",
   "name": "python",
   "nbconvert_exporter": "python",
   "pygments_lexer": "ipython3",
   "version": "3.9.0"
  }
 },
 "nbformat": 4,
 "nbformat_minor": 5
}
