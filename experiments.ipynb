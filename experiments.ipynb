{
 "cells": [
  {
   "cell_type": "code",
   "execution_count": null,
   "id": "e40b4b94-cd69-49a5-95e1-4296300841d5",
   "metadata": {},
   "outputs": [],
   "source": [
    "%load_ext autoreload\n",
    "%autoreload 2\n",
    "import numpy as np\n",
    "from fdshapley import FederatedShapley"
   ]
  },
  {
   "cell_type": "code",
   "execution_count": null,
   "id": "b5c6d313-940c-47c0-870a-a8d4b8bb5fcf",
   "metadata": {},
   "outputs": [],
   "source": [
    "N = 10\n",
    "data = [np.ones((50, 5)) for i in range(N)]\n",
    "u = lambda x: 1\n",
    "r = 1"
   ]
  },
  {
   "cell_type": "code",
   "execution_count": null,
   "id": "6a09f700-cbd7-464a-b0f2-59888d4263fd",
   "metadata": {},
   "outputs": [],
   "source": [
    "fed = FederatedShapley(data, u, r)\n",
    "fed.federatedSVEstimation(0.1, 10)"
   ]
  }
 ],
 "metadata": {
  "kernelspec": {
   "display_name": "Python 3 (ipykernel)",
   "language": "python",
   "name": "python3"
  },
  "language_info": {
   "codemirror_mode": {
    "name": "ipython",
    "version": 3
   },
   "file_extension": ".py",
   "mimetype": "text/x-python",
   "name": "python",
   "nbconvert_exporter": "python",
   "pygments_lexer": "ipython3",
   "version": "3.9.0"
  }
 },
 "nbformat": 4,
 "nbformat_minor": 5
}
