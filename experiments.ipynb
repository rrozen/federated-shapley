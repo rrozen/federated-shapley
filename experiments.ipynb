{
 "cells": [
  {
   "cell_type": "code",
   "execution_count": null,
   "id": "32042d28-db11-4e87-a4b9-55e3b1f4d549",
   "metadata": {},
   "outputs": [],
   "source": [
    "%load_ext line_profiler\n",
    "%load_ext autoreload\n",
    "%autoreload 2"
   ]
  },
  {
   "cell_type": "code",
   "execution_count": null,
   "id": "8ccc620c-ed0d-4d02-ae31-a49e99ece6cf",
   "metadata": {},
   "outputs": [],
   "source": [
    "import numpy as np\n",
    "\n",
    "import matplotlib.pyplot as plt\n",
    "import matplotlib.cm as cm\n",
    "from matplotlib.colors import Normalize\n",
    "\n",
    "from sklearn.datasets import fetch_openml\n",
    "from sklearn.linear_model import LogisticRegression\n",
    "from sklearn.model_selection import train_test_split\n",
    "from sklearn.exceptions import ConvergenceWarning\n",
    "\n",
    "import warnings\n",
    "warnings.filterwarnings(\"ignore\", category=ConvergenceWarning)\n",
    "\n",
    "from fdshapley import FederatedShapley"
   ]
  },
  {
   "cell_type": "code",
   "execution_count": null,
   "id": "22bb714a-8248-4bf9-bd19-72fe4efdab97",
   "metadata": {},
   "outputs": [],
   "source": [
    "# Load data from https://www.openml.org/d/554\n",
    "X, y = fetch_openml(\"mnist_784\", version=1, return_X_y=True, as_frame=False)"
   ]
  },
  {
   "cell_type": "code",
   "execution_count": null,
   "id": "50a63c4f-df5e-4ec8-ab64-09dd5b12407c",
   "metadata": {},
   "outputs": [],
   "source": [
    "def split(X, y, n_participants, frac_test=0.2):\n",
    "    X_train, X_test, y_train, y_test = train_test_split(X, y, test_size=0.2) \n",
    "    xs_train, ys_train = np.split(X_train, n_participants), np.split(y_train, n_participants)\n",
    "    return  xs_train, ys_train, X_test, y_test"
   ]
  },
  {
   "cell_type": "code",
   "execution_count": null,
   "id": "756b6b02-99c1-4a91-b548-e3b4c071b167",
   "metadata": {},
   "outputs": [],
   "source": [
    "xs_train, ys_train, X_test, y_test = split(X[:10_000], y[:10_000], 10, 0.2)"
   ]
  },
  {
   "cell_type": "code",
   "execution_count": null,
   "id": "10d4a3a8-1be5-490f-872e-c44376c2f8cf",
   "metadata": {},
   "outputs": [],
   "source": [
    "params = {\n",
    "    'max_iter': 1, \n",
    "    'warm_start': True,\n",
    "    'fit_intercept':False\n",
    "}"
   ]
  },
  {
   "cell_type": "code",
   "execution_count": null,
   "id": "b5c6d313-940c-47c0-870a-a8d4b8bb5fcf",
   "metadata": {},
   "outputs": [],
   "source": [
    "data_train = [[x,y] for x,y in zip(xs_train, ys_train)]\n",
    "data_test = [X_test, y_test]\n",
    "\n",
    "for i in [0,1,2,3, 4]:\n",
    "        data_train[i][1] = np.random.randint(0,10, len(data_train[i][1]))\n"
   ]
  },
  {
   "cell_type": "code",
   "execution_count": null,
   "id": "6a09f700-cbd7-464a-b0f2-59888d4263fd",
   "metadata": {},
   "outputs": [],
   "source": [
    "fed = FederatedShapley(data_train, data_test)\n",
    "res, first = fed.federatedSVEstimation(0.2, 50)"
   ]
  },
  {
   "cell_type": "code",
   "execution_count": null,
   "id": "100c6c3e-aee8-425d-a1bb-108c52979670",
   "metadata": {
    "tags": []
   },
   "outputs": [],
   "source": [
    "fed.u(fed.w)"
   ]
  },
  {
   "cell_type": "code",
   "execution_count": null,
   "id": "aaf14f3a-93a6-4707-9625-a3df5be558a7",
   "metadata": {},
   "outputs": [],
   "source": [
    "cmap = cm.hot\n",
    "norm = Normalize(vmin=0, vmax=10)\n",
    "\n",
    "colors =  [cmap(norm(x)) for x in first]\n",
    "plt.bar(range(10), res, color=colors)"
   ]
  },
  {
   "cell_type": "code",
   "execution_count": null,
   "id": "e119fd2d-9a98-437a-9e29-c130bf034327",
   "metadata": {},
   "outputs": [],
   "source": []
  }
 ],
 "metadata": {
  "kernelspec": {
   "display_name": "Python 3 (ipykernel)",
   "language": "python",
   "name": "python3"
  },
  "language_info": {
   "codemirror_mode": {
    "name": "ipython",
    "version": 3
   },
   "file_extension": ".py",
   "mimetype": "text/x-python",
   "name": "python",
   "nbconvert_exporter": "python",
   "pygments_lexer": "ipython3",
   "version": "3.8.12"
  }
 },
 "nbformat": 4,
 "nbformat_minor": 5
}
