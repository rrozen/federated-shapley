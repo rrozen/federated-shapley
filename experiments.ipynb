{
 "cells": [
  {
   "cell_type": "code",
   "execution_count": null,
   "id": "8ccc620c-ed0d-4d02-ae31-a49e99ece6cf",
   "metadata": {},
   "outputs": [],
   "source": [
    "import warnings\n",
    "from sklearn.exceptions import ConvergenceWarning\n",
    "warnings.filterwarnings(\"ignore\", category=ConvergenceWarning)\n",
    "\n",
    "%load_ext autoreload\n",
    "%autoreload 2\n",
    "\n",
    "from fdshapley import FederatedShapley\n",
    "\n",
    "\n",
    "import numpy as np\n",
    "import matplotlib.pyplot as plt\n",
    "from sklearn.datasets import fetch_openml\n",
    "from sklearn.linear_model import LogisticRegression\n",
    "from sklearn.model_selection import train_test_split"
   ]
  },
  {
   "cell_type": "code",
   "execution_count": null,
   "id": "22bb714a-8248-4bf9-bd19-72fe4efdab97",
   "metadata": {},
   "outputs": [],
   "source": [
    "# Load data from https://www.openml.org/d/554\n",
    "X, y = fetch_openml(\"mnist_784\", version=1, return_X_y=True, as_frame=False)"
   ]
  },
  {
   "cell_type": "code",
   "execution_count": null,
   "id": "50a63c4f-df5e-4ec8-ab64-09dd5b12407c",
   "metadata": {},
   "outputs": [],
   "source": [
    "def split(X, y, n_participants, frac_test=0.2):\n",
    "    X_train, X_test, y_train, y_test = train_test_split(X, y, test_size=0.2) \n",
    "    xs_train, ys_train = np.split(X_train, n_participants), np.split(y_train, n_participants)\n",
    "    return  xs_train, ys_train, X_test, y_test"
   ]
  },
  {
   "cell_type": "code",
   "execution_count": null,
   "id": "756b6b02-99c1-4a91-b548-e3b4c071b167",
   "metadata": {},
   "outputs": [],
   "source": [
    "xs_train, ys_train, X_test, y_test = split(X, y, 20)"
   ]
  },
  {
   "cell_type": "code",
   "execution_count": null,
   "id": "10d4a3a8-1be5-490f-872e-c44376c2f8cf",
   "metadata": {},
   "outputs": [],
   "source": [
    "params = {\n",
    "    'C': 50/len(ys_train[0]), \n",
    "    'max_iter': 1, \n",
    "    'penalty':\"l1\",\n",
    "    'solver':\"saga\",\n",
    "    'warm_start': True,\n",
    "    'fit_intercept':False\n",
    "}"
   ]
  },
  {
   "cell_type": "code",
   "execution_count": null,
   "id": "b5c6d313-940c-47c0-870a-a8d4b8bb5fcf",
   "metadata": {},
   "outputs": [],
   "source": [
    "data_train = [[x,y] for x,y in zip(xs_train, ys_train)]\n",
    "data_test = [X_test, y_test]\n",
    "\n",
    "for i in [0,1,2,3]:\n",
    "    data_train[i][1] = np.random.randint(0,10, len(data_train[i][1]))"
   ]
  },
  {
   "cell_type": "code",
   "execution_count": null,
   "id": "6a09f700-cbd7-464a-b0f2-59888d4263fd",
   "metadata": {},
   "outputs": [],
   "source": [
    "fed = FederatedShapley(data_train, data_test, params)\n",
    "res = fed.federatedSVEstimation(0.1, 20)\n",
    "fed.clf.coef_ = fed.w\n",
    "fed.clf.score(X_test, y_test)"
   ]
  },
  {
   "cell_type": "code",
   "execution_count": null,
   "id": "aaf14f3a-93a6-4707-9625-a3df5be558a7",
   "metadata": {},
   "outputs": [],
   "source": [
    "plt.bar(range(20), res)"
   ]
  },
  {
   "cell_type": "code",
   "execution_count": null,
   "id": "5161b668-4c70-4557-ba5e-858b4dad4642",
   "metadata": {},
   "outputs": [],
   "source": []
  }
 ],
 "metadata": {
  "kernelspec": {
   "display_name": "Python 3 (ipykernel)",
   "language": "python",
   "name": "python3"
  },
  "language_info": {
   "codemirror_mode": {
    "name": "ipython",
    "version": 3
   },
   "file_extension": ".py",
   "mimetype": "text/x-python",
   "name": "python",
   "nbconvert_exporter": "python",
   "pygments_lexer": "ipython3",
   "version": "3.9.0"
  }
 },
 "nbformat": 4,
 "nbformat_minor": 5
}
